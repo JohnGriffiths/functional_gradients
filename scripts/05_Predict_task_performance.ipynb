{
 "cells": [
  {
   "cell_type": "markdown",
   "metadata": {
    "collapsed": true,
    "deletable": true,
    "editable": true
   },
   "source": [
    "# Step 5\n",
    "\n",
    "## Predict behavioral performance from the match of the gradients\n",
    "\n",
    "We combine steps 2 and 4 to investigate a potential behavioral relevance of the match of time series to gradients"
   ]
  },
  {
   "cell_type": "code",
   "execution_count": 1,
   "metadata": {
    "collapsed": false,
    "deletable": true,
    "editable": true
   },
   "outputs": [
    {
     "name": "stderr",
     "output_type": "stream",
     "text": [
      "/usr/local/lib/python2.7/site-packages/nibabel/cifti2/parse_cifti2.py:24: FutureWarning: We no longer carry a copy of the 'six' package in nibabel; Please import the 'six' package directly\n",
      "  from ..externals.six import BytesIO\n"
     ]
    }
   ],
   "source": [
    "%matplotlib inline\n",
    "\n",
    "import numpy as np\n",
    "import h5py as h5\n",
    "import pandas as pd\n",
    "import seaborn as sns\n",
    "import matplotlib.pyplot as plt\n",
    "\n",
    "from fgrad.predict import features_targets, predict_performance"
   ]
  },
  {
   "cell_type": "markdown",
   "metadata": {
    "deletable": true,
    "editable": true
   },
   "source": [
    "## Prepare the features\n",
    "\n",
    "Same as in Step 3, we simply calculate the average values for each 100-subject group"
   ]
  },
  {
   "cell_type": "code",
   "execution_count": 2,
   "metadata": {
    "collapsed": true,
    "deletable": true,
    "editable": true
   },
   "outputs": [],
   "source": [
    "f = h5.File('/Users/marcel/projects/HCP/volumes_embedded_full.hdf5')\n",
    "d_LR = f['Working_memory/Run1']\n",
    "d_RL = f['Working_memory/Run2']"
   ]
  },
  {
   "cell_type": "code",
   "execution_count": 3,
   "metadata": {
    "collapsed": true,
    "deletable": true,
    "editable": true
   },
   "outputs": [],
   "source": [
    "labels = dict()\n",
    "labels['WM_fix'] = 0\n",
    "labels['WM_0back'] = 1\n",
    "labels['WM_2back'] = 2\n",
    "\n",
    "# Block onsets expressed as TRs\n",
    "# We add 6 volumes (4.32 s) to each onset to take into account hemodynamic lag \n",
    "# and additional 4 volumes (2.88 s) to account for instruction\n",
    "nback_LR_2b = np.round(np.array([7.977, 79.369, 150.553, 178.689])/0.72).astype(int)+10\n",
    "nback_LR_0b = np.round(np.array([36.159, 107.464, 221.965, 250.18])/0.72).astype(int)+10\n",
    "nback_RL_2b = np.round(np.array([7.977, 79.369, 178.769, 250.22])/0.72).astype(int)+10\n",
    "nback_RL_0b = np.round(np.array([36.159, 107.464, 150.567, 222.031])/0.72).astype(int)+10\n",
    "nback_fix = np.array([88, 187, 286])+6\n",
    "\n",
    "# Each block lasts for 27.5 seconds\n",
    "vols_2b_LR = np.concatenate([range(x,x+38) for x in nback_LR_2b])\n",
    "vols_0b_LR = np.concatenate([range(x,x+38) for x in nback_LR_0b])\n",
    "vols_2b_RL = np.concatenate([range(x,x+38) for x in nback_RL_2b])\n",
    "vols_0b_RL = np.concatenate([range(x,x+38) for x in nback_RL_0b])\n",
    "vols_fix = np.concatenate([range(x,x+22) for x in nback_fix])\n",
    "vols_fix = np.concatenate([vols_fix, range(395, 405)])\n",
    "\n",
    "# Targets\n",
    "nback_targets_LR = np.zeros(405)\n",
    "nback_targets_LR[vols_2b_LR] = 1\n",
    "nback_targets_LR[vols_fix] = -1\n",
    "\n",
    "nback_targets_RL = np.zeros(405)\n",
    "nback_targets_RL[vols_2b_RL] = 1\n",
    "nback_targets_RL[vols_fix] = -1"
   ]
  },
  {
   "cell_type": "code",
   "execution_count": 4,
   "metadata": {
    "collapsed": false,
    "deletable": true,
    "editable": true
   },
   "outputs": [
    {
     "name": "stderr",
     "output_type": "stream",
     "text": [
      "/usr/local/lib/python2.7/site-packages/ipykernel/__main__.py:8: DeprecationWarning: in the future out of bounds indices will raise an error instead of being ignored by `numpy.delete`.\n"
     ]
    }
   ],
   "source": [
    "# Get random group assignments\n",
    "subjects = f['Working_memory/Subjects'][...]\n",
    "np.random.seed(123)\n",
    "sind = np.arange(len(subjects))\n",
    "G1 = sorted(np.random.choice(sind, 100, replace = False ))\n",
    "sind = np.delete(sind,G1)\n",
    "G2 = sorted(np.random.choice(sind, 100, replace = False ))\n",
    "sind = np.delete(sind,G2)\n",
    "G3 = sorted(np.random.choice(sind, 100, replace = False ))"
   ]
  },
  {
   "cell_type": "code",
   "execution_count": 5,
   "metadata": {
    "collapsed": true,
    "deletable": true,
    "editable": true
   },
   "outputs": [],
   "source": [
    "conds = ['WM_fix', 'WM_0back', 'WM_2back']\n",
    "grads = [0,1,2]\n",
    "\n",
    "# Group 1\n",
    "\n",
    "f_WM_train1, t_WM_train1 = features_targets(data = d_LR, subjects = G1, \n",
    "                                      inds = nback_targets_LR, condnames = conds, gradients = grads, labels = labels)\n",
    "\n",
    "f_WM_train2, t_WM_train2 = features_targets(data = d_RL, subjects = G1, \n",
    "                                      inds = nback_targets_RL, condnames = conds, gradients = grads, labels = labels)\n",
    "\n",
    "# Group 2\n",
    "\n",
    "f_WM_train3, t_WM_train3 = features_targets(data = d_LR, subjects = G2, \n",
    "                                      inds = nback_targets_LR, condnames = conds, gradients = grads, labels = labels)\n",
    "\n",
    "f_WM_train4, t_WM_train4 = features_targets(data = d_RL, subjects = G2, \n",
    "                                      inds = nback_targets_RL, condnames = conds, gradients = grads, labels = labels)\n",
    "\n",
    "# Group 3\n",
    "\n",
    "f_WM_test1, t_WM_test1 = features_targets(data = d_LR, subjects = G3, \n",
    "                                      inds = nback_targets_LR, condnames = conds, gradients = grads, labels = labels)\n",
    "\n",
    "f_WM_test2, t_WM_test2 = features_targets(data = d_RL, subjects = G3, \n",
    "                                      inds = nback_targets_RL, condnames = conds, gradients = grads, labels = labels)"
   ]
  },
  {
   "cell_type": "markdown",
   "metadata": {
    "deletable": true,
    "editable": true
   },
   "source": [
    "## Prepare targets\n",
    "\n",
    "Get the estimated d-prime and bias and try to predict them from the gradient match"
   ]
  },
  {
   "cell_type": "code",
   "execution_count": 6,
   "metadata": {
    "collapsed": false,
    "deletable": true,
    "editable": true
   },
   "outputs": [],
   "source": [
    "data_performance = pd.read_csv('../data/WM_SDT.csv', index_col=0)\n",
    "\n",
    "data_performance.subject_id = data_performance.subject_id.astype('str')\n",
    "\n",
    "data_performance = data_performance.reset_index(drop = True)"
   ]
  },
  {
   "cell_type": "code",
   "execution_count": 7,
   "metadata": {
    "collapsed": false,
    "deletable": true,
    "editable": true
   },
   "outputs": [],
   "source": [
    "G1_ID = subjects[G1]\n",
    "G2_ID = subjects[G2]\n",
    "G3_ID = subjects[G3]"
   ]
  },
  {
   "cell_type": "code",
   "execution_count": 8,
   "metadata": {
    "collapsed": false,
    "deletable": true,
    "editable": true
   },
   "outputs": [],
   "source": [
    "# Indices to include from the behavioral data\n",
    "WM_ind_G1 = []\n",
    "WM_ind_G2 = []\n",
    "WM_ind_G3 = []\n",
    "\n",
    "# These are the indices of features to remove because of missing data\n",
    "remove_G1 = []\n",
    "remove_G2 = []\n",
    "remove_G3 = []\n",
    "\n",
    "for i, n in enumerate(G1_ID):\n",
    "    try:\n",
    "        WM_ind_G1.append(np.where(data_performance.iloc[:,0] == n)[0][0])\n",
    "    except:\n",
    "        remove_G1.append(i)\n",
    "\n",
    "for i, n in enumerate(G2_ID):\n",
    "    try:\n",
    "        WM_ind_G2.append(np.where(data_performance.iloc[:,0] == n)[0][0])\n",
    "    except:\n",
    "        remove_G2.append(i)\n",
    "    \n",
    "for i, n in enumerate(G3_ID):\n",
    "    try:\n",
    "        WM_ind_G3.append(np.where(data_performance.iloc[:,0] == n)[0][0])\n",
    "    except:\n",
    "        remove_G3.append(i)"
   ]
  },
  {
   "cell_type": "markdown",
   "metadata": {
    "deletable": true,
    "editable": true
   },
   "source": [
    "#### Prepare the vectors"
   ]
  },
  {
   "cell_type": "code",
   "execution_count": 9,
   "metadata": {
    "collapsed": false,
    "deletable": true,
    "editable": true
   },
   "outputs": [],
   "source": [
    "t_WM_2b_train1 = data_performance['dprime_2b_LR'][WM_ind_G1]\n",
    "t_WM_2b_train2 = data_performance['dprime_2b_RL'][WM_ind_G1]\n",
    "t_WM_2b_train3 = data_performance['dprime_2b_LR'][WM_ind_G2]\n",
    "t_WM_2b_train4 = data_performance['dprime_2b_RL'][WM_ind_G2]\n",
    "t_WM_2b_test1 = data_performance['dprime_2b_LR'][WM_ind_G3]\n",
    "t_WM_2b_test2 = data_performance['dprime_2b_RL'][WM_ind_G3]\n",
    "\n",
    "t_WM_0b_train1 = data_performance['dprime_0b_LR'][WM_ind_G1]\n",
    "t_WM_0b_train2 = data_performance['dprime_0b_RL'][WM_ind_G1]\n",
    "t_WM_0b_train3 = data_performance['dprime_0b_LR'][WM_ind_G2]\n",
    "t_WM_0b_train4 = data_performance['dprime_0b_RL'][WM_ind_G2]\n",
    "t_WM_0b_test1 = data_performance['dprime_0b_LR'][WM_ind_G3]\n",
    "t_WM_0b_test2 = data_performance['dprime_0b_RL'][WM_ind_G3]\n",
    "\n",
    "f_WM_2b_t1 = np.delete(f_WM_train1[2::3], remove_G1, axis = 0)\n",
    "f_WM_2b_t2 = np.delete(f_WM_train2[2::3], remove_G1, axis = 0)\n",
    "f_WM_2b_t3 = np.delete(f_WM_train3[2::3], remove_G2, axis = 0)\n",
    "f_WM_2b_t4 = np.delete(f_WM_train4[2::3], remove_G2, axis = 0)\n",
    "f_WM_2b_test1 = np.delete(f_WM_test1[2::3], remove_G3, axis = 0)\n",
    "f_WM_2b_test2 = np.delete(f_WM_test2[2::3], remove_G3, axis = 0)\n",
    "\n",
    "f_WM_0b_t1 = np.delete(f_WM_train1[1::3], remove_G1, axis = 0)\n",
    "f_WM_0b_t2 = np.delete(f_WM_train2[1::3], remove_G1, axis = 0)\n",
    "f_WM_0b_t3 = np.delete(f_WM_train3[1::3], remove_G2, axis = 0)\n",
    "f_WM_0b_t4 = np.delete(f_WM_train4[1::3], remove_G2, axis = 0)\n",
    "f_WM_0b_test1 = np.delete(f_WM_test1[1::3], remove_G3, axis = 0)\n",
    "f_WM_0b_test2 = np.delete(f_WM_test2[1::3], remove_G3, axis = 0)"
   ]
  },
  {
   "cell_type": "markdown",
   "metadata": {
    "deletable": true,
    "editable": true
   },
   "source": [
    "## Predict performance"
   ]
  },
  {
   "cell_type": "code",
   "execution_count": 10,
   "metadata": {
    "collapsed": true,
    "deletable": true,
    "editable": true
   },
   "outputs": [],
   "source": [
    "from sklearn.preprocessing import StandardScaler\n",
    "from sklearn.metrics import explained_variance_score\n",
    "import statsmodels.api as sm"
   ]
  },
  {
   "cell_type": "markdown",
   "metadata": {
    "deletable": true,
    "editable": true
   },
   "source": [
    "### 2-back"
   ]
  },
  {
   "cell_type": "code",
   "execution_count": 11,
   "metadata": {
    "collapsed": true,
    "deletable": true,
    "editable": true
   },
   "outputs": [],
   "source": [
    "features_A_2b = np.vstack([f_WM_2b_t1, f_WM_2b_t2])\n",
    "features_B_2b = np.vstack([f_WM_2b_t3, f_WM_2b_t4])\n",
    "features_C_2b = np.vstack([f_WM_2b_test1, f_WM_2b_test2])\n",
    "\n",
    "targets_A_2b = np.concatenate([t_WM_2b_train1, t_WM_2b_train2])\n",
    "targets_B_2b = np.concatenate([t_WM_2b_train3, t_WM_2b_train4])\n",
    "targets_C_2b = np.concatenate([t_WM_2b_test1, t_WM_2b_test2])"
   ]
  },
  {
   "cell_type": "code",
   "execution_count": 12,
   "metadata": {
    "collapsed": false
   },
   "outputs": [
    {
     "name": "stdout",
     "output_type": "stream",
     "text": [
      "Gradients   AIC   BIC   A (B, C)              AIC   BIC   B (A, C)              AIC   BIC   C (A, B)\n",
      "=============================================================================================================\n",
      "[0]         409.9 416.4 0.03 (0.01, 0.04)     377.9 384.2 0.02 (0.03, 0.03)     375.3 381.7 0.04 (0.03, 0.01)\n",
      "[1]         381.0 387.5 0.17 (0.10, 0.12)     360.5 366.9 0.11 (0.16, 0.12)     359.5 365.9 0.12 (0.16, 0.11)\n",
      "[2]         383.0 389.5 0.16 (0.08, 0.10)     363.1 369.5 0.09 (0.14, 0.11)     361.3 367.7 0.11 (0.15, 0.09)\n",
      "[0, 1]      379.6 389.4 0.18 (0.10, 0.15)     361.3 370.9 0.11 (0.17, 0.14)     354.3 363.9 0.16 (0.17, 0.10)\n",
      "[0, 2]      381.9 391.7 0.17 (0.06, 0.11)     365.1 374.7 0.09 (0.14, 0.12)     360.8 370.4 0.13 (0.16, 0.08)\n",
      "[1, 2]      371.4 381.1 0.22 (0.13, 0.18)     356.2 365.8 0.14 (0.21, 0.18)     349.2 358.8 0.18 (0.21, 0.13)\n",
      "[0, 1, 2]   370.8 383.8 0.23 (0.11, 0.19)     358.1 370.9 0.14 (0.21, 0.18)     348.0 360.9 0.19 (0.22, 0.12)\n"
     ]
    }
   ],
   "source": [
    "predict_performance(features_A_2b, targets_A_2b, features_B_2b, targets_B_2b, features_C_2b, targets_C_2b)"
   ]
  },
  {
   "cell_type": "code",
   "execution_count": 13,
   "metadata": {
    "collapsed": false,
    "deletable": true,
    "editable": true
   },
   "outputs": [
    {
     "name": "stdout",
     "output_type": "stream",
     "text": [
      "                            OLS Regression Results                            \n",
      "==============================================================================\n",
      "Dep. Variable:                      y   R-squared:                       0.226\n",
      "Model:                            OLS   Adj. R-squared:                  0.213\n",
      "Method:                 Least Squares   F-statistic:                     21.10\n",
      "Date:                Thu, 06 Apr 2017   Prob (F-statistic):           8.25e-12\n",
      "Time:                        13:46:25   Log-Likelihood:                -181.42\n",
      "No. Observations:                 190   AIC:                             370.8\n",
      "Df Residuals:                     186   BIC:                             383.8\n",
      "Df Model:                           3                                         \n",
      "Covariance Type:                  HC1                                         \n",
      "==============================================================================\n",
      "                 coef    std err          z      P>|z|      [0.025      0.975]\n",
      "------------------------------------------------------------------------------\n",
      "const          1.5710      0.127     12.322      0.000       1.321       1.821\n",
      "x1             5.9539      3.810      1.563      0.118      -1.514      13.422\n",
      "x2            14.8693      4.136      3.595      0.000       6.763      22.975\n",
      "x3            17.0171      4.631      3.674      0.000       7.940      26.095\n",
      "==============================================================================\n",
      "Omnibus:                        7.338   Durbin-Watson:                   1.366\n",
      "Prob(Omnibus):                  0.026   Jarque-Bera (JB):                7.607\n",
      "Skew:                           0.471   Prob(JB):                       0.0223\n",
      "Kurtosis:                       2.730   Cond. No.                         125.\n",
      "==============================================================================\n",
      "\n",
      "Warnings:\n",
      "[1] Standard Errors are heteroscedasticity robust (HC1)\n",
      "Variance explained (B): 0.11\n",
      "Variance explained (C): 0.19\n"
     ]
    }
   ],
   "source": [
    "ols = sm.OLS(targets_A_2b, sm.add_constant(features_A_2b))\n",
    "ols = ols.fit(cov_type=\"HC1\")\n",
    "print ols.summary()\n",
    "pred_2b_A_B = ols.predict(sm.add_constant(features_B_2b))\n",
    "pred_2b_A_C = ols.predict(sm.add_constant(features_C_2b))\n",
    "\n",
    "print \"Variance explained (B): %.2f\" % explained_variance_score(targets_B_2b, pred_2b_A_B)\n",
    "print \"Variance explained (C): %.2f\" % explained_variance_score(targets_C_2b, pred_2b_A_C)"
   ]
  },
  {
   "cell_type": "code",
   "execution_count": 15,
   "metadata": {
    "collapsed": false,
    "deletable": true,
    "editable": true
   },
   "outputs": [
    {
     "name": "stdout",
     "output_type": "stream",
     "text": [
      "                            OLS Regression Results                            \n",
      "==============================================================================\n",
      "Dep. Variable:                      y   R-squared:                       0.138\n",
      "Model:                            OLS   Adj. R-squared:                  0.123\n",
      "Method:                 Least Squares   F-statistic:                     9.216\n",
      "Date:                Thu, 06 Apr 2017   Prob (F-statistic):           1.07e-05\n",
      "Time:                        13:46:25   Log-Likelihood:                -175.06\n",
      "No. Observations:                 180   AIC:                             358.1\n",
      "Df Residuals:                     176   BIC:                             370.9\n",
      "Df Model:                           3                                         \n",
      "Covariance Type:                  HC1                                         \n",
      "==============================================================================\n",
      "                 coef    std err          z      P>|z|      [0.025      0.975]\n",
      "------------------------------------------------------------------------------\n",
      "const          1.7500      0.149     11.725      0.000       1.457       2.043\n",
      "x1             1.0288      3.938      0.261      0.794      -6.690       8.747\n",
      "x2            13.5018      4.533      2.978      0.003       4.617      22.386\n",
      "x3            11.7679      4.991      2.358      0.018       1.987      21.549\n",
      "==============================================================================\n",
      "Omnibus:                       11.016   Durbin-Watson:                   1.220\n",
      "Prob(Omnibus):                  0.004   Jarque-Bera (JB):                9.322\n",
      "Skew:                           0.472   Prob(JB):                      0.00946\n",
      "Kurtosis:                       2.408   Cond. No.                         124.\n",
      "==============================================================================\n",
      "\n",
      "Warnings:\n",
      "[1] Standard Errors are heteroscedasticity robust (HC1)\n",
      "Variance explained (A): 0.21\n",
      "Variance explained (C): 0.18\n"
     ]
    }
   ],
   "source": [
    "ols = sm.OLS(targets_B_2b, sm.add_constant(features_B_2b))\n",
    "ols = ols.fit(cov_type=\"HC1\")\n",
    "print ols.summary()\n",
    "pred_2b_B_A = ols.predict(sm.add_constant(features_A_2b))\n",
    "pred_2b_B_C = ols.predict(sm.add_constant(features_C_2b))\n",
    "\n",
    "print \"Variance explained (A): %.2f\" % explained_variance_score(targets_A_2b, pred_2b_B_A)\n",
    "print \"Variance explained (C): %.2f\" % explained_variance_score(targets_C_2b, pred_2b_B_C)"
   ]
  },
  {
   "cell_type": "code",
   "execution_count": 16,
   "metadata": {
    "collapsed": false,
    "deletable": true,
    "editable": true
   },
   "outputs": [
    {
     "name": "stdout",
     "output_type": "stream",
     "text": [
      "                            OLS Regression Results                            \n",
      "==============================================================================\n",
      "Dep. Variable:                      y   R-squared:                       0.194\n",
      "Model:                            OLS   Adj. R-squared:                  0.180\n",
      "Method:                 Least Squares   F-statistic:                     16.62\n",
      "Date:                Thu, 06 Apr 2017   Prob (F-statistic):           1.45e-09\n",
      "Time:                        13:46:25   Log-Likelihood:                -170.02\n",
      "No. Observations:                 182   AIC:                             348.0\n",
      "Df Residuals:                     178   BIC:                             360.9\n",
      "Df Model:                           3                                         \n",
      "Covariance Type:                  HC1                                         \n",
      "==============================================================================\n",
      "                 coef    std err          z      P>|z|      [0.025      0.975]\n",
      "------------------------------------------------------------------------------\n",
      "const          1.6685      0.130     12.883      0.000       1.415       1.922\n",
      "x1             7.0242      4.226      1.662      0.096      -1.258      15.306\n",
      "x2            14.4518      3.594      4.021      0.000       7.407      21.496\n",
      "x3            13.2933      4.973      2.673      0.008       3.546      23.041\n",
      "==============================================================================\n",
      "Omnibus:                        5.576   Durbin-Watson:                   1.263\n",
      "Prob(Omnibus):                  0.062   Jarque-Bera (JB):                5.055\n",
      "Skew:                           0.339   Prob(JB):                       0.0799\n",
      "Kurtosis:                       2.545   Cond. No.                         112.\n",
      "==============================================================================\n",
      "\n",
      "Warnings:\n",
      "[1] Standard Errors are heteroscedasticity robust (HC1)\n",
      "Variance explained (A): 0.22\n",
      "Variance explained (C): 0.12\n"
     ]
    }
   ],
   "source": [
    "ols = sm.OLS(targets_C_2b, sm.add_constant(features_C_2b))\n",
    "ols = ols.fit(cov_type=\"HC1\")\n",
    "print ols.summary()\n",
    "pred_2b_C_A = ols.predict(sm.add_constant(features_A_2b))\n",
    "pred_2b_C_B = ols.predict(sm.add_constant(features_B_2b))\n",
    "\n",
    "print \"Variance explained (A): %.2f\" % explained_variance_score(targets_A_2b, pred_2b_C_A)\n",
    "print \"Variance explained (C): %.2f\" % explained_variance_score(targets_B_2b, pred_2b_C_B)"
   ]
  },
  {
   "cell_type": "code",
   "execution_count": 17,
   "metadata": {
    "collapsed": false,
    "deletable": true,
    "editable": true
   },
   "outputs": [
    {
     "data": {
      "image/png": "[encoded data removed]",
      "text/plain": [
       "<matplotlib.figure.Figure at 0x110d791d0>"
      ]
     },
     "metadata": {},
     "output_type": "display_data"
    }
   ],
   "source": [
    "sns.set_style('whitegrid')\n",
    "size = 6\n",
    "\n",
    "fig = plt.figure(figsize = (15,12))\n",
    "\n",
    "ax = fig.add_subplot(3,3,1)\n",
    "ax.scatter(features_A_2b[:,0], targets_A_2b, s = size)\n",
    "ax.set_ylabel('Data split 1', fontsize = 18)\n",
    "ax.set_title('Gradient 1', fontsize = 18)\n",
    "\n",
    "ax = fig.add_subplot(3,3,2)\n",
    "ax.scatter(features_A_2b[:,1], targets_A_2b, s = size)\n",
    "ax.set_title('Gradient 2', fontsize = 18)\n",
    "\n",
    "ax = fig.add_subplot(3,3,3)\n",
    "ax.scatter(features_A_2b[:,2], targets_A_2b, s = size)\n",
    "ax.set_title('Gradient 3', fontsize = 18)\n",
    "\n",
    "ax = fig.add_subplot(3,3,4)\n",
    "ax.scatter(features_B_2b[:,0], targets_B_2b, s = size)\n",
    "ax.set_ylabel('Data split 2', fontsize = 18)\n",
    "\n",
    "ax = fig.add_subplot(3,3,5)\n",
    "ax.scatter(features_B_2b[:,1], targets_B_2b, s = size)\n",
    "\n",
    "ax = fig.add_subplot(3,3,6)\n",
    "ax.scatter(features_B_2b[:,2], targets_B_2b, s = size)\n",
    "\n",
    "ax = fig.add_subplot(3,3,7)\n",
    "ax.scatter(features_C_2b[:,0], targets_C_2b, s = size)\n",
    "ax.set_ylabel('Data split 3', fontsize = 18)\n",
    "\n",
    "ax = fig.add_subplot(3,3,8)\n",
    "ax.scatter(features_C_2b[:,1], targets_C_2b, s = size)\n",
    "\n",
    "ax = fig.add_subplot(3,3,9)\n",
    "ax.scatter(features_C_2b[:,2], targets_C_2b, s = size)\n",
    "\n",
    "plt.tight_layout()"
   ]
  },
  {
   "cell_type": "markdown",
   "metadata": {
    "deletable": true,
    "editable": true
   },
   "source": [
    "### 0-back"
   ]
  },
  {
   "cell_type": "code",
   "execution_count": 24,
   "metadata": {
    "collapsed": true,
    "deletable": true,
    "editable": true
   },
   "outputs": [],
   "source": [
    "scaler = StandardScaler()\n",
    "scaler.fit(f_WM_0b_t1)\n",
    "\n",
    "features_A_0b = np.vstack([f_WM_0b_t1, f_WM_0b_t2])\n",
    "features_B_0b = np.vstack([f_WM_0b_t3, f_WM_0b_t4])\n",
    "features_C_0b = np.vstack([f_WM_0b_test1, f_WM_0b_test2])\n",
    "\n",
    "targets_A_0b = np.concatenate([t_WM_0b_train1, t_WM_0b_train2])\n",
    "targets_B_0b = np.concatenate([t_WM_0b_train3, t_WM_0b_train4])\n",
    "targets_C_0b = np.concatenate([t_WM_0b_test1, t_WM_0b_test2])"
   ]
  },
  {
   "cell_type": "code",
   "execution_count": 25,
   "metadata": {
    "collapsed": false
   },
   "outputs": [
    {
     "name": "stdout",
     "output_type": "stream",
     "text": [
      "Gradients   AIC   BIC   A (B, C)              AIC   BIC   B (A, C)              AIC   BIC   C (A, B)\n",
      "=============================================================================================================\n",
      "[0]         626.8 633.2 0.03 (0.08, 0.08)     586.7 593.0 0.09 (0.02, 0.10)     586.1 592.5 0.10 (0.00, 0.09)\n",
      "[1]         613.7 620.2 0.09 (0.04, -0.02)     594.1 600.5 0.05 (0.08, 0.01)     602.8 609.2 0.02 (0.06, 0.04)\n",
      "[2]         562.6 569.1 0.30 (0.34, 0.35)     530.4 536.8 0.34 (0.30, 0.35)     527.9 534.3 0.35 (0.30, 0.33)\n",
      "[0, 1]      613.1 622.8 0.10 (0.10, 0.04)     581.2 590.8 0.13 (0.08, 0.10)     586.2 595.8 0.11 (0.04, 0.12)\n",
      "[0, 2]      564.3 574.1 0.31 (0.34, 0.36)     531.8 541.4 0.34 (0.31, 0.36)     525.4 535.0 0.37 (0.30, 0.33)\n",
      "[1, 2]      560.9 570.7 0.32 (0.34, 0.32)     530.8 540.4 0.34 (0.32, 0.33)     528.6 538.2 0.35 (0.29, 0.32)\n",
      "[0, 1, 2]   562.8 575.8 0.32 (0.34, 0.32)     532.2 544.9 0.34 (0.32, 0.34)     526.0 538.8 0.37 (0.28, 0.31)\n"
     ]
    }
   ],
   "source": [
    "predict_performance(features_A_0b, targets_A_0b, features_B_0b, targets_B_0b, features_C_0b, targets_C_0b)"
   ]
  },
  {
   "cell_type": "code",
   "execution_count": 20,
   "metadata": {
    "collapsed": false,
    "deletable": true,
    "editable": true
   },
   "outputs": [
    {
     "name": "stdout",
     "output_type": "stream",
     "text": [
      "                            OLS Regression Results                            \n",
      "==============================================================================\n",
      "Dep. Variable:                      y   R-squared:                       0.319\n",
      "Model:                            OLS   Adj. R-squared:                  0.308\n",
      "Method:                 Least Squares   F-statistic:                     37.56\n",
      "Date:                Thu, 06 Apr 2017   Prob (F-statistic):           5.04e-19\n",
      "Time:                        13:46:29   Log-Likelihood:                -277.40\n",
      "No. Observations:                 190   AIC:                             562.8\n",
      "Df Residuals:                     186   BIC:                             575.8\n",
      "Df Model:                           3                                         \n",
      "Covariance Type:                  HC1                                         \n",
      "==============================================================================\n",
      "                 coef    std err          z      P>|z|      [0.025      0.975]\n",
      "------------------------------------------------------------------------------\n",
      "const          3.3742      0.080     42.033      0.000       3.217       3.532\n",
      "x1            -0.0272      0.076     -0.359      0.720      -0.176       0.122\n",
      "x2            -0.1446      0.077     -1.888      0.059      -0.295       0.006\n",
      "x3            -0.6169      0.077     -8.014      0.000      -0.768      -0.466\n",
      "==============================================================================\n",
      "Omnibus:                        4.115   Durbin-Watson:                   1.952\n",
      "Prob(Omnibus):                  0.128   Jarque-Bera (JB):                2.625\n",
      "Skew:                           0.069   Prob(JB):                        0.269\n",
      "Kurtosis:                       2.441   Cond. No.                         1.58\n",
      "==============================================================================\n",
      "\n",
      "Warnings:\n",
      "[1] Standard Errors are heteroscedasticity robust (HC1)\n",
      "Variance explained (B): 0.34\n",
      "Variance explained (C): 0.32\n"
     ]
    }
   ],
   "source": [
    "ols = sm.OLS(targets_A_0b, sm.add_constant(features_A_0b))\n",
    "ols = ols.fit(cov_type=\"HC1\")\n",
    "print ols.summary()\n",
    "pred_0b_A_B = ols.predict(sm.add_constant(features_B_0b))\n",
    "pred_0b_A_C = ols.predict(sm.add_constant(features_C_0b))\n",
    "\n",
    "print \"Variance explained (B): %.2f\" % explained_variance_score(targets_B_0b, pred_0b_A_B)\n",
    "print \"Variance explained (C): %.2f\" % explained_variance_score(targets_C_0b, pred_0b_A_C)"
   ]
  },
  {
   "cell_type": "code",
   "execution_count": 21,
   "metadata": {
    "collapsed": false,
    "deletable": true,
    "editable": true
   },
   "outputs": [
    {
     "name": "stdout",
     "output_type": "stream",
     "text": [
      "                            OLS Regression Results                            \n",
      "==============================================================================\n",
      "Dep. Variable:                      y   R-squared:                       0.343\n",
      "Model:                            OLS   Adj. R-squared:                  0.332\n",
      "Method:                 Least Squares   F-statistic:                     38.88\n",
      "Date:                Thu, 06 Apr 2017   Prob (F-statistic):           2.51e-19\n",
      "Time:                        13:46:29   Log-Likelihood:                -262.09\n",
      "No. Observations:                 180   AIC:                             532.2\n",
      "Df Residuals:                     176   BIC:                             544.9\n",
      "Df Model:                           3                                         \n",
      "Covariance Type:                  HC1                                         \n",
      "==============================================================================\n",
      "                 coef    std err          z      P>|z|      [0.025      0.975]\n",
      "------------------------------------------------------------------------------\n",
      "const          3.4105      0.080     42.710      0.000       3.254       3.567\n",
      "x1            -0.0556      0.074     -0.752      0.452      -0.200       0.089\n",
      "x2            -0.0860      0.070     -1.232      0.218      -0.223       0.051\n",
      "x3            -0.6189      0.082     -7.527      0.000      -0.780      -0.458\n",
      "==============================================================================\n",
      "Omnibus:                        9.485   Durbin-Watson:                   1.477\n",
      "Prob(Omnibus):                  0.009   Jarque-Bera (JB):                4.393\n",
      "Skew:                           0.100   Prob(JB):                        0.111\n",
      "Kurtosis:                       2.261   Cond. No.                         2.00\n",
      "==============================================================================\n",
      "\n",
      "Warnings:\n",
      "[1] Standard Errors are heteroscedasticity robust (HC1)\n",
      "Variance explained (A): 0.32\n",
      "Variance explained (C): 0.34\n"
     ]
    }
   ],
   "source": [
    "ols = sm.OLS(targets_B_0b, sm.add_constant(features_B_0b))\n",
    "ols = ols.fit(cov_type=\"HC1\")\n",
    "print ols.summary()\n",
    "pred_0b_B_A = ols.predict(sm.add_constant(features_A_0b))\n",
    "pred_0b_B_C = ols.predict(sm.add_constant(features_C_0b))\n",
    "\n",
    "print \"Variance explained (A): %.2f\" % explained_variance_score(targets_A_0b, pred_0b_B_A)\n",
    "print \"Variance explained (C): %.2f\" % explained_variance_score(targets_C_0b, pred_0b_B_C)"
   ]
  },
  {
   "cell_type": "code",
   "execution_count": 22,
   "metadata": {
    "collapsed": false,
    "deletable": true,
    "editable": true
   },
   "outputs": [
    {
     "name": "stdout",
     "output_type": "stream",
     "text": [
      "                            OLS Regression Results                            \n",
      "==============================================================================\n",
      "Dep. Variable:                      y   R-squared:                       0.370\n",
      "Model:                            OLS   Adj. R-squared:                  0.360\n",
      "Method:                 Least Squares   F-statistic:                     45.03\n",
      "Date:                Thu, 06 Apr 2017   Prob (F-statistic):           1.05e-21\n",
      "Time:                        13:46:29   Log-Likelihood:                -259.01\n",
      "No. Observations:                 182   AIC:                             526.0\n",
      "Df Residuals:                     178   BIC:                             538.8\n",
      "Df Model:                           3                                         \n",
      "Covariance Type:                  HC1                                         \n",
      "==============================================================================\n",
      "                 coef    std err          z      P>|z|      [0.025      0.975]\n",
      "------------------------------------------------------------------------------\n",
      "const          3.3312      0.076     43.585      0.000       3.181       3.481\n",
      "x1            -0.1564      0.073     -2.149      0.032      -0.299      -0.014\n",
      "x2             0.0782      0.070      1.110      0.267      -0.060       0.216\n",
      "x3            -0.6934      0.080     -8.673      0.000      -0.850      -0.537\n",
      "==============================================================================\n",
      "Omnibus:                        1.925   Durbin-Watson:                   1.995\n",
      "Prob(Omnibus):                  0.382   Jarque-Bera (JB):                1.696\n",
      "Skew:                           0.115   Prob(JB):                        0.428\n",
      "Kurtosis:                       2.587   Cond. No.                         1.78\n",
      "==============================================================================\n",
      "\n",
      "Warnings:\n",
      "[1] Standard Errors are heteroscedasticity robust (HC1)\n",
      "Variance explained (A): 0.28\n",
      "Variance explained (C): 0.31\n"
     ]
    }
   ],
   "source": [
    "ols = sm.OLS(targets_C_0b, sm.add_constant(features_C_0b))\n",
    "ols = ols.fit(cov_type=\"HC1\")\n",
    "print ols.summary()\n",
    "pred_2b_C_A = ols.predict(sm.add_constant(features_A_0b))\n",
    "pred_2b_C_B = ols.predict(sm.add_constant(features_B_0b))\n",
    "\n",
    "print \"Variance explained (A): %.2f\" % explained_variance_score(targets_A_0b, pred_2b_C_A)\n",
    "print \"Variance explained (C): %.2f\" % explained_variance_score(targets_B_0b, pred_2b_C_B)"
   ]
  },
  {
   "cell_type": "code",
   "execution_count": 23,
   "metadata": {
    "collapsed": false,
    "deletable": true,
    "editable": true
   },
   "outputs": [
    {
     "data": {
      "image/png": "[encoded data removed]",
      "text/plain": [
       "<matplotlib.figure.Figure at 0x110d1ed90>"
      ]
     },
     "metadata": {},
     "output_type": "display_data"
    }
   ],
   "source": [
    "sns.set_style('whitegrid')\n",
    "size = 6\n",
    "\n",
    "fig = plt.figure(figsize = (15,12))\n",
    "\n",
    "ax = fig.add_subplot(3,3,1)\n",
    "ax.scatter(features_A_0b[:,0], targets_A_0b, s = size)\n",
    "ax.set_ylabel('Data split 1', fontsize = 18)\n",
    "ax.set_title('Gradient 1', fontsize = 18)\n",
    "\n",
    "ax = fig.add_subplot(3,3,2)\n",
    "ax.scatter(features_A_0b[:,1], targets_A_0b, s = size)\n",
    "ax.set_title('Gradient 2', fontsize = 18)\n",
    "\n",
    "ax = fig.add_subplot(3,3,3)\n",
    "ax.scatter(features_A_0b[:,2], targets_A_0b, s = size)\n",
    "ax.set_title('Gradient 3', fontsize = 18)\n",
    "\n",
    "ax = fig.add_subplot(3,3,4)\n",
    "ax.scatter(features_B_0b[:,0], targets_B_0b, s = size)\n",
    "ax.set_ylabel('Data split 2', fontsize = 18)\n",
    "\n",
    "ax = fig.add_subplot(3,3,5)\n",
    "ax.scatter(features_B_0b[:,1], targets_B_0b, s = size)\n",
    "\n",
    "ax = fig.add_subplot(3,3,6)\n",
    "ax.scatter(features_B_0b[:,2], targets_B_0b, s = size)\n",
    "\n",
    "ax = fig.add_subplot(3,3,7)\n",
    "ax.scatter(features_C_0b[:,0], targets_C_0b, s = size)\n",
    "ax.set_ylabel('Data split 3', fontsize = 18)\n",
    "\n",
    "ax = fig.add_subplot(3,3,8)\n",
    "ax.scatter(features_C_0b[:,1], targets_C_0b, s = size)\n",
    "\n",
    "ax = fig.add_subplot(3,3,9)\n",
    "ax.scatter(features_C_0b[:,2], targets_C_0b, s = size)\n",
    "\n",
    "plt.tight_layout()"
   ]
  }
 ],
 "metadata": {
  "kernelspec": {
   "display_name": "Python 2",
   "language": "python",
   "name": "python2"
  },
  "language_info": {
   "codemirror_mode": {
    "name": "ipython",
    "version": 2
   },
   "file_extension": ".py",
   "mimetype": "text/x-python",
   "name": "python",
   "nbconvert_exporter": "python",
   "pygments_lexer": "ipython2",
   "version": "2.7.13"
  }
 },
 "nbformat": 4,
 "nbformat_minor": 2
}
