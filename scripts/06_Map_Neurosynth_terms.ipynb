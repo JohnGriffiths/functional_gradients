{
 "cells": [
  {
   "cell_type": "markdown",
   "metadata": {
    "collapsed": true,
    "deletable": true,
    "editable": true
   },
   "source": [
    "# Step 6\n",
    "\n",
    "## Decode the gradients with NeuroSynth topics\n",
    "\n",
    "Here we take another approach for interpreting the gradients - decode them using spatial maps from automatic, meta-analytic database (Yarkoni et al. 2011, Poldrack et al. 2012)\n",
    "\n",
    "#### References\n",
    "- Yarkoni, T., Poldrack, R.A., Nichols, T.E., Van Essen, D.C. and Wager, T.D., 2011. Large-scale automated synthesis of human functional neuroimaging data. Nature methods, 8(8), pp.665-670.\n",
    "\n",
    "- Poldrack, R.A., Mumford, J.A., Schonberg, T., Kalar, D., Barman, B. and Yarkoni, T., 2012. Discovering relations between mind, brain, and mental disorders using topic mapping. PLoS Comput Biol, 8(10), p.e1002707."
   ]
  },
  {
   "cell_type": "code",
   "execution_count": 1,
   "metadata": {
    "collapsed": false
   },
   "outputs": [
    {
     "name": "stderr",
     "output_type": "stream",
     "text": [
      "/usr/local/lib/python2.7/site-packages/nibabel/cifti2/parse_cifti2.py:24: FutureWarning: We no longer carry a copy of the 'six' package in nibabel; Please import the 'six' package directly\n",
      "  from ..externals.six import BytesIO\n"
     ]
    }
   ],
   "source": [
    "from neurosynth.base.dataset import Dataset\n",
    "from neurosynth import meta, decode, network\n",
    "\n",
    "import nibabel as nib"
   ]
  },
  {
   "cell_type": "markdown",
   "metadata": {},
   "source": [
    "### Reproduce the meta-analytic maps for 50-topic solution"
   ]
  },
  {
   "cell_type": "code",
   "execution_count": null,
   "metadata": {
    "collapsed": true
   },
   "outputs": [],
   "source": [
    "ns.dataset.download(path='.', unpack=True)\n",
    "dataset = Dataset('database.txt')\n",
    "\n",
    "dataset.add_features('features.txt')\n",
    "\n",
    "dataset.save('../data/Neurosynth.pkl')"
   ]
  },
  {
   "cell_type": "code",
   "execution_count": null,
   "metadata": {
    "collapsed": true
   },
   "outputs": [],
   "source": [
    "dataset = Dataset.load('../data/Neurosynth.pkl')\n",
    "\n",
    "decoder = decode.Decoder(dataset, features=['mentalizing','social','theory mind','tom',\n",
    "                                            'conflict', 'switching', 'inhibition',\n",
    "                                           'response inhibition','working memory',\n",
    "                                           'cognitive control', 'attention',\n",
    "                                           'reward','punishment','prediction error',\n",
    "                                           'reinforcement'])"
   ]
  },
  {
   "cell_type": "code",
   "execution_count": null,
   "metadata": {
    "collapsed": true
   },
   "outputs": [],
   "source": [
    "img = nib.Nifti1Image(decoder.masker.unmask(decoder.feature_images), template.get_affine())\n",
    "img.to_filename('../data/Neurosynth_features.nii.gz')"
   ]
  }
 ],
 "metadata": {
  "kernelspec": {
   "display_name": "Python 2",
   "language": "python",
   "name": "python2"
  },
  "language_info": {
   "codemirror_mode": {
    "name": "ipython",
    "version": 2
   },
   "file_extension": ".py",
   "mimetype": "text/x-python",
   "name": "python",
   "nbconvert_exporter": "python",
   "pygments_lexer": "ipython2",
   "version": "2.7.13"
  }
 },
 "nbformat": 4,
 "nbformat_minor": 2
}
