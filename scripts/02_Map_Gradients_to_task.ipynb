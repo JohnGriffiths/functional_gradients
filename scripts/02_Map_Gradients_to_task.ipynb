{
 "cells": [
  {
   "cell_type": "markdown",
   "metadata": {
    "collapsed": true,
    "deletable": true,
    "editable": true
   },
   "source": [
    "# Step 2\n",
    "## Match the gradients to working memory task time-series and predict task condition\n",
    "\n",
    "In this step we take use the three non-trivial gradients with highest eigenvalues and match them to task time-series. This will allow us to re-express the task-related BOLD time-series as a time series of gradients. The steps are the following:\n",
    "\n",
    "1. Load single run of task time-series.\n",
    "2. Normalize the task time-series to have mean = 0 and variance = 1 (z-score).\n",
    "3. For each volume independently, compute coefficients of a linear regression model with gradients as predictors.\n",
    "4. Average the coefficients for each gradient within each condition (fixation, 0-back, 2-back).\n",
    "5. Train and test Support Vector Machine to predict task condition based on coefficients.\n",
    "\n",
    "To reproduce the results, you need to provide your own copy of HCP working memory task data.  "
   ]
  },
  {
   "cell_type": "code",
   "execution_count": 6,
   "metadata": {
    "collapsed": false,
    "deletable": true,
    "editable": true
   },
   "outputs": [
    {
     "ename": "ImportError",
     "evalue": "No module named regress",
     "output_type": "error",
     "traceback": [
      "\u001b[0;31m---------------------------------------------------------------------------\u001b[0m",
      "\u001b[0;31mImportError\u001b[0m                               Traceback (most recent call last)",
      "\u001b[0;32m<ipython-input-6-ea31a73ef8dc>\u001b[0m in \u001b[0;36m<module>\u001b[0;34m()\u001b[0m\n\u001b[1;32m      4\u001b[0m \u001b[0;32mfrom\u001b[0m \u001b[0mscipy\u001b[0m\u001b[0;34m.\u001b[0m\u001b[0mstats\u001b[0m\u001b[0;34m.\u001b[0m\u001b[0mmstats\u001b[0m \u001b[0;32mimport\u001b[0m \u001b[0mzscore\u001b[0m\u001b[0;34m\u001b[0m\u001b[0m\n\u001b[1;32m      5\u001b[0m \u001b[0;32mfrom\u001b[0m \u001b[0msklearn\u001b[0m\u001b[0;34m.\u001b[0m\u001b[0mlinear_model\u001b[0m \u001b[0;32mimport\u001b[0m \u001b[0mLinearRegression\u001b[0m\u001b[0;34m\u001b[0m\u001b[0m\n\u001b[0;32m----> 6\u001b[0;31m \u001b[0;32mfrom\u001b[0m \u001b[0mfgrad\u001b[0m\u001b[0;34m.\u001b[0m\u001b[0mregress\u001b[0m \u001b[0;32mimport\u001b[0m \u001b[0mregress_subject\u001b[0m\u001b[0;34m\u001b[0m\u001b[0m\n\u001b[0m",
      "\u001b[0;31mImportError\u001b[0m: No module named regress"
     ]
    }
   ],
   "source": [
    "import glob\n",
    "\n",
    "import nibabel as nib\n",
    "from scipy.stats.mstats import zscore\n",
    "from sklearn.linear_model import LinearRegression\n",
    "from fgrad.regress import regress_subject"
   ]
  },
  {
   "cell_type": "code",
   "execution_count": 4,
   "metadata": {
    "collapsed": false
   },
   "outputs": [
    {
     "name": "stderr",
     "output_type": "stream",
     "text": [
      "pixdim[1,2,3] should be non-zero; setting 0 dims to 1\n"
     ]
    }
   ],
   "source": [
    "gradients = nib.load('../data/rsFC_eigenvectors.dscalar.nii').get_data()"
   ]
  },
  {
   "cell_type": "code",
   "execution_count": 5,
   "metadata": {
    "collapsed": false
   },
   "outputs": [
    {
     "data": {
      "text/plain": [
       "(300, 91282)"
      ]
     },
     "execution_count": 5,
     "metadata": {},
     "output_type": "execute_result"
    }
   ],
   "source": [
    "files = sorted(glob.glob('/Users/marcel/projects/HCP/data/'))"
   ]
  }
 ],
 "metadata": {
  "kernelspec": {
   "display_name": "Python 2",
   "language": "python",
   "name": "python2"
  },
  "language_info": {
   "codemirror_mode": {
    "name": "ipython",
    "version": 2
   },
   "file_extension": ".py",
   "mimetype": "text/x-python",
   "name": "python",
   "nbconvert_exporter": "python",
   "pygments_lexer": "ipython2",
   "version": "2.7.13"
  }
 },
 "nbformat": 4,
 "nbformat_minor": 2
}
